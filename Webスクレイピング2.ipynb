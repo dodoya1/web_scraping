{
  "nbformat": 4,
  "nbformat_minor": 0,
  "metadata": {
    "colab": {
      "provenance": [],
      "collapsed_sections": [],
      "authorship_tag": "ABX9TyOe9tH2oZE6Dap68l+LI+Xn",
      "include_colab_link": true
    },
    "kernelspec": {
      "name": "python3",
      "display_name": "Python 3"
    },
    "language_info": {
      "name": "python"
    }
  },
  "cells": [
    {
      "cell_type": "markdown",
      "metadata": {
        "id": "view-in-github",
        "colab_type": "text"
      },
      "source": [
        "<a href=\"https://colab.research.google.com/github/dodoya1/web_scraping/blob/main/Web%E3%82%B9%E3%82%AF%E3%83%AC%E3%82%A4%E3%83%94%E3%83%B3%E3%82%B02.ipynb\" target=\"_parent\"><img src=\"https://colab.research.google.com/assets/colab-badge.svg\" alt=\"Open In Colab\"/></a>"
      ]
    },
    {
      "cell_type": "markdown",
      "source": [
        "# Webページ内のデータを自動抽出_Beautiful Soup\n",
        "\n",
        "今回は、Udemyの受講者数とレビュー数を自動取得しているサイトから受講者数とレビュー数を自動取得する方法を解説する。\n",
        "\n",
        "(参考文献)\n",
        "[【Webスクレイピング超入門】2時間で基礎を完全マスター！PythonによるWebスクレイピング入門 連結版](https://youtu.be/VRFfAeW30qE)"
      ],
      "metadata": {
        "id": "_2kiTO02KxlK"
      }
    },
    {
      "cell_type": "code",
      "execution_count": null,
      "metadata": {
        "id": "NPdW_wEuKkdP"
      },
      "outputs": [],
      "source": [
        "#ライブラリのインストール\n",
        "!pip install requests\n",
        "!pip install BeautifulSoup4"
      ]
    },
    {
      "cell_type": "code",
      "source": [
        "import requests\n",
        "from bs4 import BeautifulSoup\n",
        "\n",
        "#スクレイピングしたい対象のURLを指定する\n",
        "url=\"https://scraping-for-beginner.herokuapp.com/udemy\"\n",
        "#取得する\n",
        "res=requests.get(url)\n",
        "\n",
        "#「html.parser」：HTMLの構造を解析する。\n",
        "soup = BeautifulSoup(res.text, \"html.parser\")\n",
        "\n",
        "#受講者数を得る。\n",
        "#引数attrsでclassを指定する：attrs={\"class\":\"subscribers\"}\n",
        "subscribers = soup.find_all(\"p\", attrs={\"class\": \"subscribers\"})[0]\n",
        "print(subscribers.text)\n",
        "n_subscribers=int(subscribers.text.split(\"：\")[1])\n",
        "print(n_subscribers)\n",
        "\n",
        "#レビュー数を得る。\n",
        "reviews = soup.find_all(\"p\", attrs={\"class\": \"reviews\"}) [0]\n",
        "print(reviews.text)\n",
        "n_reviews = int(reviews.text.split(\"：\")[1])\n",
        "print(n_reviews)\n",
        "\n"
      ],
      "metadata": {
        "colab": {
          "base_uri": "https://localhost:8080/"
        },
        "id": "XFyH8nnjQapt",
        "outputId": "4b65291f-5ab4-4ac6-f308-0452c5deb38f"
      },
      "execution_count": 11,
      "outputs": [
        {
          "output_type": "stream",
          "name": "stdout",
          "text": [
            "受講生の数：17567\n",
            "17567\n",
            "レビューの数：3058\n",
            "3058\n"
          ]
        }
      ]
    },
    {
      "cell_type": "markdown",
      "source": [
        "# ランキングサイト掲載情報を自動取得\n",
        "\n",
        "今回は、それぞれの観光地において、いくつかのカテゴリ別に評価をし、さらに総合評価をしているサイトを対象としてWebスクレイピングをする方法を解説する。\n",
        "\n",
        "最終的には、それぞれの観光地におけるカテゴリ別の評価点と総合評価をまとめたCSVファイルを生成し、保存する。\n",
        "\n",
        "(参考文献)\n",
        "[【Webスクレイピング超入門】2時間で基礎を完全マスター！PythonによるWebスクレイピング入門 連結版](https://youtu.be/VRFfAeW30qE)"
      ],
      "metadata": {
        "id": "sP5T517VG16H"
      }
    },
    {
      "cell_type": "code",
      "source": [
        "import requests\n",
        "from bs4 import BeautifulSoup\n",
        "\n",
        "#スクレイピングしたい対象のURLを指定する\n",
        "url=\"https://scraping-for-beginner.herokuapp.com/ranking/\"\n",
        "#取得する\n",
        "res=requests.get(url)\n",
        "\n",
        "#「\"html.parser\"」とすることで、取得したHTMLを見やすくしてくれる。\n",
        "soup=BeautifulSoup(res.text,\"html.parser\")\n",
        "\n",
        "#取得した全てのデータを格納するための変数。\n",
        "data=[]\n",
        "\n",
        "#「u_areaListRankingBox」クラスとは、「おすすめ観光地」の一つ一つをパックにしたクラス。\n",
        "#タグ名、classを指定し、全ての「おすすめ観光地」を取得する。\n",
        "spots=soup.find_all(\"div\",attrs={\"class\": \"u_areaListRankingBox\"})\n",
        "\n",
        "#それぞれの「おすすめ観光地」に対して以下の処理を行う。\n",
        "for spot in spots:\n",
        "    #「おすすめ観光地」の名前を取得。\n",
        "    spot_name=spot.find(\"div\",attrs={\"class\": \"u_title\"})\n",
        "\n",
        "    #spanタグ、badgeクラスを指定し、その部分を削除(extract)している。\n",
        "    spot_name.find(\"span\",attrs={\"class\": \"badge\"}).extract()\n",
        "\n",
        "    #不必要な「\\n」(改行マーク)を空白文字に置き換えている。\n",
        "    spot_name=spot_name.text.replace(\"\\n\", \"\")\n",
        "\n",
        "    #評点(総合評価点)を取得している。\n",
        "    eval_num=spot.find(\"div\", attrs={\"class\": \"u_rankBox\"}).text\n",
        "    eval_num=float(eval_num.replace(\"\\n\", \"\"))\n",
        "\n",
        "    #全てのカテゴリー名(項目名)を取得している。\n",
        "    categoryItems=spot.find(\"div\", attrs={\"class\": \"u_categoryTipsItem\"})\n",
        "    categoryItems=categoryItems.find_all(\"dl\")\n",
        "\n",
        "    #各カテゴリーの評価点を格納する変数。\n",
        "    details={}\n",
        "\n",
        "    # categoryltem=categoryItems[0]\n",
        "    for categoryItem in categoryItems:\n",
        "        #カテゴリー名は、「dt」タグに囲われたテキスト。\n",
        "        category=categoryItem.dt.text\n",
        "        #各カテゴリーの評価点は、spanタグに囲われたテキスト。\n",
        "        rank=float(categoryItem.span.text)\n",
        "\n",
        "        details[category]=rank\n",
        "\n",
        "    datum=details\n",
        "    datum[\"観光地名\"]=spot_name\n",
        "    datum[\"評点\"]=eval_num\n",
        "    data.append(datum)\n",
        "data"
      ],
      "metadata": {
        "id": "_OXr6VrfHb72"
      },
      "execution_count": null,
      "outputs": []
    },
    {
      "cell_type": "code",
      "source": [
        "#CSVファイルに出力\n",
        "import pandas as pd\n",
        "\n",
        "df=pd.DataFrame(data)\n",
        "\n",
        "df"
      ],
      "metadata": {
        "colab": {
          "base_uri": "https://localhost:8080/",
          "height": 363
        },
        "id": "tX6pDlvrm0GL",
        "outputId": "19c6632c-8a3d-4508-ad90-8f1d51a01cd1"
      },
      "execution_count": 31,
      "outputs": [
        {
          "output_type": "execute_result",
          "data": {
            "text/plain": [
              "   楽しさ  人混みの多さ   景色  アクセス    観光地名   評点\n",
              "0  4.6     4.5  4.9   4.2   観光地 1  4.7\n",
              "1  4.6     4.5  4.9   4.2   観光地 2  4.7\n",
              "2  4.5     4.4  4.8   4.1   観光地 3  4.6\n",
              "3  4.4     4.4  4.8   4.0   観光地 4  4.5\n",
              "4  4.4     4.3  4.7   4.0   観光地 5  4.5\n",
              "5  4.3     4.3  4.7   3.9   観光地 6  4.4\n",
              "6  4.2     4.2  4.6   3.8   観光地 7  4.3\n",
              "7  4.2     4.2  4.6   3.8   観光地 8  4.3\n",
              "8  4.1     4.1  4.5   3.7   観光地 9  4.2\n",
              "9  4.0     4.1  4.4   3.6  観光地 10  4.1"
            ],
            "text/html": [
              "\n",
              "  <div id=\"df-d64b5907-6f0e-4fd7-93f7-37e324670414\">\n",
              "    <div class=\"colab-df-container\">\n",
              "      <div>\n",
              "<style scoped>\n",
              "    .dataframe tbody tr th:only-of-type {\n",
              "        vertical-align: middle;\n",
              "    }\n",
              "\n",
              "    .dataframe tbody tr th {\n",
              "        vertical-align: top;\n",
              "    }\n",
              "\n",
              "    .dataframe thead th {\n",
              "        text-align: right;\n",
              "    }\n",
              "</style>\n",
              "<table border=\"1\" class=\"dataframe\">\n",
              "  <thead>\n",
              "    <tr style=\"text-align: right;\">\n",
              "      <th></th>\n",
              "      <th>楽しさ</th>\n",
              "      <th>人混みの多さ</th>\n",
              "      <th>景色</th>\n",
              "      <th>アクセス</th>\n",
              "      <th>観光地名</th>\n",
              "      <th>評点</th>\n",
              "    </tr>\n",
              "  </thead>\n",
              "  <tbody>\n",
              "    <tr>\n",
              "      <th>0</th>\n",
              "      <td>4.6</td>\n",
              "      <td>4.5</td>\n",
              "      <td>4.9</td>\n",
              "      <td>4.2</td>\n",
              "      <td>観光地 1</td>\n",
              "      <td>4.7</td>\n",
              "    </tr>\n",
              "    <tr>\n",
              "      <th>1</th>\n",
              "      <td>4.6</td>\n",
              "      <td>4.5</td>\n",
              "      <td>4.9</td>\n",
              "      <td>4.2</td>\n",
              "      <td>観光地 2</td>\n",
              "      <td>4.7</td>\n",
              "    </tr>\n",
              "    <tr>\n",
              "      <th>2</th>\n",
              "      <td>4.5</td>\n",
              "      <td>4.4</td>\n",
              "      <td>4.8</td>\n",
              "      <td>4.1</td>\n",
              "      <td>観光地 3</td>\n",
              "      <td>4.6</td>\n",
              "    </tr>\n",
              "    <tr>\n",
              "      <th>3</th>\n",
              "      <td>4.4</td>\n",
              "      <td>4.4</td>\n",
              "      <td>4.8</td>\n",
              "      <td>4.0</td>\n",
              "      <td>観光地 4</td>\n",
              "      <td>4.5</td>\n",
              "    </tr>\n",
              "    <tr>\n",
              "      <th>4</th>\n",
              "      <td>4.4</td>\n",
              "      <td>4.3</td>\n",
              "      <td>4.7</td>\n",
              "      <td>4.0</td>\n",
              "      <td>観光地 5</td>\n",
              "      <td>4.5</td>\n",
              "    </tr>\n",
              "    <tr>\n",
              "      <th>5</th>\n",
              "      <td>4.3</td>\n",
              "      <td>4.3</td>\n",
              "      <td>4.7</td>\n",
              "      <td>3.9</td>\n",
              "      <td>観光地 6</td>\n",
              "      <td>4.4</td>\n",
              "    </tr>\n",
              "    <tr>\n",
              "      <th>6</th>\n",
              "      <td>4.2</td>\n",
              "      <td>4.2</td>\n",
              "      <td>4.6</td>\n",
              "      <td>3.8</td>\n",
              "      <td>観光地 7</td>\n",
              "      <td>4.3</td>\n",
              "    </tr>\n",
              "    <tr>\n",
              "      <th>7</th>\n",
              "      <td>4.2</td>\n",
              "      <td>4.2</td>\n",
              "      <td>4.6</td>\n",
              "      <td>3.8</td>\n",
              "      <td>観光地 8</td>\n",
              "      <td>4.3</td>\n",
              "    </tr>\n",
              "    <tr>\n",
              "      <th>8</th>\n",
              "      <td>4.1</td>\n",
              "      <td>4.1</td>\n",
              "      <td>4.5</td>\n",
              "      <td>3.7</td>\n",
              "      <td>観光地 9</td>\n",
              "      <td>4.2</td>\n",
              "    </tr>\n",
              "    <tr>\n",
              "      <th>9</th>\n",
              "      <td>4.0</td>\n",
              "      <td>4.1</td>\n",
              "      <td>4.4</td>\n",
              "      <td>3.6</td>\n",
              "      <td>観光地 10</td>\n",
              "      <td>4.1</td>\n",
              "    </tr>\n",
              "  </tbody>\n",
              "</table>\n",
              "</div>\n",
              "      <button class=\"colab-df-convert\" onclick=\"convertToInteractive('df-d64b5907-6f0e-4fd7-93f7-37e324670414')\"\n",
              "              title=\"Convert this dataframe to an interactive table.\"\n",
              "              style=\"display:none;\">\n",
              "        \n",
              "  <svg xmlns=\"http://www.w3.org/2000/svg\" height=\"24px\"viewBox=\"0 0 24 24\"\n",
              "       width=\"24px\">\n",
              "    <path d=\"M0 0h24v24H0V0z\" fill=\"none\"/>\n",
              "    <path d=\"M18.56 5.44l.94 2.06.94-2.06 2.06-.94-2.06-.94-.94-2.06-.94 2.06-2.06.94zm-11 1L8.5 8.5l.94-2.06 2.06-.94-2.06-.94L8.5 2.5l-.94 2.06-2.06.94zm10 10l.94 2.06.94-2.06 2.06-.94-2.06-.94-.94-2.06-.94 2.06-2.06.94z\"/><path d=\"M17.41 7.96l-1.37-1.37c-.4-.4-.92-.59-1.43-.59-.52 0-1.04.2-1.43.59L10.3 9.45l-7.72 7.72c-.78.78-.78 2.05 0 2.83L4 21.41c.39.39.9.59 1.41.59.51 0 1.02-.2 1.41-.59l7.78-7.78 2.81-2.81c.8-.78.8-2.07 0-2.86zM5.41 20L4 18.59l7.72-7.72 1.47 1.35L5.41 20z\"/>\n",
              "  </svg>\n",
              "      </button>\n",
              "      \n",
              "  <style>\n",
              "    .colab-df-container {\n",
              "      display:flex;\n",
              "      flex-wrap:wrap;\n",
              "      gap: 12px;\n",
              "    }\n",
              "\n",
              "    .colab-df-convert {\n",
              "      background-color: #E8F0FE;\n",
              "      border: none;\n",
              "      border-radius: 50%;\n",
              "      cursor: pointer;\n",
              "      display: none;\n",
              "      fill: #1967D2;\n",
              "      height: 32px;\n",
              "      padding: 0 0 0 0;\n",
              "      width: 32px;\n",
              "    }\n",
              "\n",
              "    .colab-df-convert:hover {\n",
              "      background-color: #E2EBFA;\n",
              "      box-shadow: 0px 1px 2px rgba(60, 64, 67, 0.3), 0px 1px 3px 1px rgba(60, 64, 67, 0.15);\n",
              "      fill: #174EA6;\n",
              "    }\n",
              "\n",
              "    [theme=dark] .colab-df-convert {\n",
              "      background-color: #3B4455;\n",
              "      fill: #D2E3FC;\n",
              "    }\n",
              "\n",
              "    [theme=dark] .colab-df-convert:hover {\n",
              "      background-color: #434B5C;\n",
              "      box-shadow: 0px 1px 3px 1px rgba(0, 0, 0, 0.15);\n",
              "      filter: drop-shadow(0px 1px 2px rgba(0, 0, 0, 0.3));\n",
              "      fill: #FFFFFF;\n",
              "    }\n",
              "  </style>\n",
              "\n",
              "      <script>\n",
              "        const buttonEl =\n",
              "          document.querySelector('#df-d64b5907-6f0e-4fd7-93f7-37e324670414 button.colab-df-convert');\n",
              "        buttonEl.style.display =\n",
              "          google.colab.kernel.accessAllowed ? 'block' : 'none';\n",
              "\n",
              "        async function convertToInteractive(key) {\n",
              "          const element = document.querySelector('#df-d64b5907-6f0e-4fd7-93f7-37e324670414');\n",
              "          const dataTable =\n",
              "            await google.colab.kernel.invokeFunction('convertToInteractive',\n",
              "                                                     [key], {});\n",
              "          if (!dataTable) return;\n",
              "\n",
              "          const docLinkHtml = 'Like what you see? Visit the ' +\n",
              "            '<a target=\"_blank\" href=https://colab.research.google.com/notebooks/data_table.ipynb>data table notebook</a>'\n",
              "            + ' to learn more about interactive tables.';\n",
              "          element.innerHTML = '';\n",
              "          dataTable['output_type'] = 'display_data';\n",
              "          await google.colab.output.renderOutput(dataTable, element);\n",
              "          const docLink = document.createElement('div');\n",
              "          docLink.innerHTML = docLinkHtml;\n",
              "          element.appendChild(docLink);\n",
              "        }\n",
              "      </script>\n",
              "    </div>\n",
              "  </div>\n",
              "  "
            ]
          },
          "metadata": {},
          "execution_count": 31
        }
      ]
    },
    {
      "cell_type": "code",
      "source": [
        "#生成したデータ表のカラムの順番を操作する方法。\n",
        "\n",
        "#カラムを取得する。\n",
        "print(df.columns)\n",
        "\n",
        "#以下のようにして簡単にカラムの順番を変更できる。\n",
        "df=df[['観光地名', '評点','楽しさ', '人混みの多さ', '景色', 'アクセス']]\n",
        "\n",
        "#csvファイルとして出力する。(index=Falseとすることで、indexは抜きにしてcsvファイルとして出力する。)\n",
        "df.to_csv(\"観光地情報.csv\",index=False)"
      ],
      "metadata": {
        "colab": {
          "base_uri": "https://localhost:8080/"
        },
        "id": "btROnSeDnO06",
        "outputId": "a60229bd-da32-47a7-8fba-7504c80a6c9e"
      },
      "execution_count": 37,
      "outputs": [
        {
          "output_type": "stream",
          "name": "stdout",
          "text": [
            "Index(['観光地名', '評点', '楽しさ', '人混みの多さ', '景色', 'アクセス'], dtype='object')\n"
          ]
        }
      ]
    },
    {
      "cell_type": "markdown",
      "source": [
        "# Webページ上の画像を自動で取得\n",
        "\n",
        "imgフォルダ内に、指定したURL内に存在する全ての画像が自動で格納される。\n",
        "\n",
        "(参考文献)\n",
        "[【Webスクレイピング超入門】2時間で基礎を完全マスター！PythonによるWebスクレイピング入門 連結版](https://youtu.be/VRFfAeW30qE)"
      ],
      "metadata": {
        "id": "szsl7Xp2r8_T"
      }
    },
    {
      "cell_type": "code",
      "source": [
        "!pip install Pillow"
      ],
      "metadata": {
        "colab": {
          "base_uri": "https://localhost:8080/"
        },
        "id": "BVYpdpnqwz6s",
        "outputId": "98337b7a-2d67-4615-fb98-54a040955a78"
      },
      "execution_count": 50,
      "outputs": [
        {
          "output_type": "stream",
          "name": "stdout",
          "text": [
            "Looking in indexes: https://pypi.org/simple, https://us-python.pkg.dev/colab-wheels/public/simple/\n",
            "Requirement already satisfied: Pillow in /usr/local/lib/python3.7/dist-packages (7.1.2)\n"
          ]
        }
      ]
    },
    {
      "cell_type": "code",
      "source": [
        "import requests\n",
        "from bs4 import BeautifulSoup\n",
        "#画像の保存を行うことのできるライブラリ。\n",
        "from PIL import Image\n",
        "import io\n",
        "\n",
        "#スクレイピングしたい対象のURLを指定する\n",
        "url=\"https://scraping-for-beginner.herokuapp.com/image\"\n",
        "#取得する\n",
        "res=requests.get(url)\n",
        "\n",
        "#「\"html.parser\"」とすることで、取得したHTMLを見やすくしてくれる。\n",
        "soup=BeautifulSoup(res.text,\"html.parser\")\n",
        "#「img」タグと指定する。「img」タグ全てを取得する。最初の一つだけ取得したい場合は、「soup.find(\"img\")」とする。\n",
        "img_tags = soup.find_all(\"img\")\n",
        "\n",
        "#何個目の画像か数えるための変数\n",
        "count=0\n",
        "for img_tag in img_tags:\n",
        "    count+=1\n",
        "    root_url = \"https://scraping-for-beginner.herokuapp.com\"\n",
        "    #以下は、画像のURLである。\n",
        "    img_url=root_url + img_tag[\"src\"]\n",
        "\n",
        "    #指定した画像のURL(img_url)先の画像を開く。\n",
        "    img=Image.open(io.BytesIO(requests.get(img_url).content))\n",
        "    #「img/sample.jpg」という名前で画像を保存する。\n",
        "    img.save(f\"img/{count}.jpg\")"
      ],
      "metadata": {
        "id": "QJ4g37y6ypFE"
      },
      "execution_count": 56,
      "outputs": []
    },
    {
      "cell_type": "markdown",
      "source": [
        "# スクレイピングを自動で定期実行する方法！\n",
        "\n",
        "以上のスクレイピングを自動で定期実行する方法は、以下のサイトを参考に。\n",
        "\n",
        "[Python　スクレイピングを自動で定期実行する！【Schedule】](https://retire-early40.com/python%E3%80%80%E3%82%B9%E3%82%AF%E3%83%AC%E3%82%A4%E3%83%94%E3%83%B3%E3%82%B0%E3%82%92%E8%87%AA%E5%8B%95%E3%81%A7%E5%AE%9A%E6%9C%9F%E5%AE%9F%E8%A1%8C%E3%81%99%E3%82%8B%EF%BC%81%E3%80%90schedule/)"
      ],
      "metadata": {
        "id": "CjnGVJkD4HTV"
      }
    }
  ]
}