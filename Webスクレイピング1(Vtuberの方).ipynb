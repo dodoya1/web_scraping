{
  "nbformat": 4,
  "nbformat_minor": 0,
  "metadata": {
    "colab": {
      "provenance": [],
      "collapsed_sections": [],
      "authorship_tag": "ABX9TyPGqFA717sUsqAm5Q6v6/Wg",
      "include_colab_link": true
    },
    "kernelspec": {
      "name": "python3",
      "display_name": "Python 3"
    },
    "language_info": {
      "name": "python"
    }
  },
  "cells": [
    {
      "cell_type": "markdown",
      "metadata": {
        "id": "view-in-github",
        "colab_type": "text"
      },
      "source": [
        "<a href=\"https://colab.research.google.com/github/dodoya1/web_scraping/blob/main/Web%E3%82%B9%E3%82%AF%E3%83%AC%E3%82%A4%E3%83%94%E3%83%B3%E3%82%B01(Vtuber%E3%81%AE%E6%96%B9).ipynb\" target=\"_parent\"><img src=\"https://colab.research.google.com/assets/colab-badge.svg\" alt=\"Open In Colab\"/></a>"
      ]
    },
    {
      "cell_type": "markdown",
      "source": [
        "# Webスクレイピング1(Vtuberの方)\n",
        "\n",
        "(参考文献)\n",
        "[【PythonでWebスクレイピング】Beautiful Soupの使い方解説！ 〜 初心者向け 〜 プログラミング入門](https://youtu.be/rDVrf9sCOW8)"
      ],
      "metadata": {
        "id": "askNxSZn9Riw"
      }
    },
    {
      "cell_type": "code",
      "execution_count": null,
      "metadata": {
        "id": "UfECZhV823TL"
      },
      "outputs": [],
      "source": [
        "#Requestsは、HTTP向けのPythonのライブラリである。\n",
        "!pip install requests"
      ]
    },
    {
      "cell_type": "markdown",
      "source": [
        "## 指定したURLのHTMLを取得する方法"
      ],
      "metadata": {
        "id": "do3s-Skq-ViU"
      }
    },
    {
      "cell_type": "code",
      "source": [
        "import requests\n",
        "res=requests.get(\"https://www.orangepage.net/recipes\")\n",
        "#HTML(文字列)を取得\n",
        "print(res.text)"
      ],
      "metadata": {
        "id": "d3fSU-ip6t2c"
      },
      "execution_count": null,
      "outputs": []
    },
    {
      "cell_type": "code",
      "source": [
        "#スクレイピングではクローリングにSeleniumを用い、HTML解析にBeautifulSoup4を利用します。\n",
        "!pip install beautifulsoup4"
      ],
      "metadata": {
        "id": "RNzJVYnw8MCD"
      },
      "execution_count": null,
      "outputs": []
    },
    {
      "cell_type": "markdown",
      "source": [
        "## タグやid、classを指定して情報を取得する方法。\n",
        "\n",
        "・デベロッパーツールでは、左に行くほど階層が上。"
      ],
      "metadata": {
        "id": "T-OfQd5XGKn1"
      }
    },
    {
      "cell_type": "code",
      "source": [
        "import requests\n",
        "from bs4 import BeautifulSoup\n",
        "res = requests.get(\"https://www.orangepage.net/recipes/search/6\")\n",
        "soup = BeautifulSoup(res.text,\"html.parser\")\n",
        "\n",
        "#タグ名、id、classを指定。\n",
        "recipes = soup.find(\"div\", id=\"recipe_list\",class_=\"recipesList\")\n",
        "#「class_」によってクラスを指定。\n",
        "p_tit_tags=recipes.find_all(\"h2\",class_=\"tit\")\n",
        "print([x.string for x in p_tit_tags])"
      ],
      "metadata": {
        "id": "JENLH1wu8dwN"
      },
      "execution_count": null,
      "outputs": []
    }
  ]
}